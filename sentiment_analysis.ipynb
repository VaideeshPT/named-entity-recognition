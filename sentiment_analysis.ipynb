{
 "cells": [
  {
   "cell_type": "markdown",
   "metadata": {},
   "source": [
    "# Sentiment analysis using CNN"
   ]
  },
  {
   "cell_type": "markdown",
   "metadata": {},
   "source": [
    "## 1. Loading the dataset"
   ]
  },
  {
   "cell_type": "markdown",
   "metadata": {},
   "source": [
    "### import libraries"
   ]
  },
  {
   "cell_type": "code",
   "execution_count": null,
   "metadata": {},
   "outputs": [],
   "source": [
    "#Required libraries\n",
    "\n",
    "import os\n",
    "os.environ['TF_CPP_MIN_LOG_LEVEL'] = '3'\n",
    "\n",
    "import re\n",
    "from string import punctuation\n",
    "import random\n",
    "from wordcloud import WordCloud\n",
    "import itertools\n",
    "from collections import Counter\n",
    "import numpy as np\n",
    "import pandas as pd\n",
    "import matplotlib.pyplot as plt\n",
    "\n",
    "import smart_open\n",
    "smart_open.open = smart_open.smart_open\n",
    "\n",
    "import nltk\n",
    "from nltk.corpus import stopwords\n",
    "from mlxtend.plotting import plot_confusion_matrix\n",
    "from sklearn.feature_extraction.text import CountVectorizer\n",
    "from sklearn.model_selection import train_test_split\n",
    "from sklearn.metrics import confusion_matrix, accuracy_score, classification_report\n",
    "\n",
    "import keras\n",
    "from keras.layers import Flatten, LSTM, Activation, Dropout, Dense, Input, Conv1D, MaxPooling1D, GlobalMaxPooling1D, Embedding\n",
    "from keras.models import Sequential\n",
    "from keras import callbacks\n",
    "from keras.preprocessing.text import Tokenizer\n",
    "from keras.preprocessing.sequence import pad_sequences\n",
    "\n",
    "seed = 1729\n"
   ]
  },
  {
   "cell_type": "markdown",
   "metadata": {},
   "source": [
    "Lets import the movie reviews dataset"
   ]
  },
  {
   "cell_type": "code",
   "execution_count": 2,
   "metadata": {},
   "outputs": [],
   "source": [
    "#movie reviews dataset\n",
    "from nltk.corpus import movie_reviews"
   ]
  },
  {
   "cell_type": "markdown",
   "metadata": {},
   "source": [
    "There are two folders, of which have 1000 positive and 1000 negative reviews. "
   ]
  },
  {
   "cell_type": "code",
   "execution_count": 3,
   "metadata": {},
   "outputs": [],
   "source": [
    "#reviews and sentiment\n",
    "documents = [(list(movie_reviews.words(fileid)), category) for category in movie_reviews.categories() for fileid in movie_reviews.fileids(category)]"
   ]
  },
  {
   "cell_type": "code",
   "execution_count": 4,
   "metadata": {
    "scrolled": false
   },
   "outputs": [
    {
     "data": {
      "text/html": [
       "<div>\n",
       "<style scoped>\n",
       "    .dataframe tbody tr th:only-of-type {\n",
       "        vertical-align: middle;\n",
       "    }\n",
       "\n",
       "    .dataframe tbody tr th {\n",
       "        vertical-align: top;\n",
       "    }\n",
       "\n",
       "    .dataframe thead th {\n",
       "        text-align: right;\n",
       "    }\n",
       "</style>\n",
       "<table border=\"1\" class=\"dataframe\">\n",
       "  <thead>\n",
       "    <tr style=\"text-align: right;\">\n",
       "      <th></th>\n",
       "      <th>original_review</th>\n",
       "      <th>sentiment</th>\n",
       "    </tr>\n",
       "  </thead>\n",
       "  <tbody>\n",
       "    <tr>\n",
       "      <th>1412</th>\n",
       "      <td>[frequency, n, ., ,, the, number, of, times, a...</td>\n",
       "      <td>pos</td>\n",
       "    </tr>\n",
       "    <tr>\n",
       "      <th>1942</th>\n",
       "      <td>[it, is, always, refreshing, to, see, a, super...</td>\n",
       "      <td>pos</td>\n",
       "    </tr>\n",
       "    <tr>\n",
       "      <th>1711</th>\n",
       "      <td>[in, \", the, sweet, hereafter, ,, \", writer, /...</td>\n",
       "      <td>pos</td>\n",
       "    </tr>\n",
       "    <tr>\n",
       "      <th>977</th>\n",
       "      <td>[i, saw, this, film, on, christmas, day, expec...</td>\n",
       "      <td>neg</td>\n",
       "    </tr>\n",
       "    <tr>\n",
       "      <th>1324</th>\n",
       "      <td>[produced, by, robert, lantos, &amp;, stephen, j, ...</td>\n",
       "      <td>pos</td>\n",
       "    </tr>\n",
       "  </tbody>\n",
       "</table>\n",
       "</div>"
      ],
      "text/plain": [
       "                                        original_review sentiment\n",
       "1412  [frequency, n, ., ,, the, number, of, times, a...       pos\n",
       "1942  [it, is, always, refreshing, to, see, a, super...       pos\n",
       "1711  [in, \", the, sweet, hereafter, ,, \", writer, /...       pos\n",
       "977   [i, saw, this, film, on, christmas, day, expec...       neg\n",
       "1324  [produced, by, robert, lantos, &, stephen, j, ...       pos"
      ]
     },
     "execution_count": 4,
     "metadata": {},
     "output_type": "execute_result"
    }
   ],
   "source": [
    "#documents as a dataframe object\n",
    "df = pd.DataFrame(documents, columns = [\"original_review\", \"sentiment\"])\n",
    "df = df.sample(frac = 1) #shuffle the dataframe\n",
    "df.head()"
   ]
  },
  {
   "cell_type": "markdown",
   "metadata": {},
   "source": [
    "### Lets look if a dataset has any missing values and print the shape of dataframe. "
   ]
  },
  {
   "cell_type": "code",
   "execution_count": 5,
   "metadata": {},
   "outputs": [
    {
     "data": {
      "text/plain": [
       "original_review    False\n",
       "sentiment          False\n",
       "dtype: bool"
      ]
     },
     "execution_count": 5,
     "metadata": {},
     "output_type": "execute_result"
    }
   ],
   "source": [
    "#null values\n",
    "df.isnull().any()"
   ]
  },
  {
   "cell_type": "markdown",
   "metadata": {},
   "source": [
    "There are no missing values."
   ]
  },
  {
   "cell_type": "code",
   "execution_count": 6,
   "metadata": {},
   "outputs": [
    {
     "name": "stdout",
     "output_type": "stream",
     "text": [
      "The shape of the dataframe is (2000, 2).\n"
     ]
    }
   ],
   "source": [
    "#shape of the dataset\n",
    "print(f\"The shape of the dataframe is {df.shape}.\")"
   ]
  },
  {
   "cell_type": "markdown",
   "metadata": {},
   "source": [
    "## 2. Preprocessing"
   ]
  },
  {
   "cell_type": "markdown",
   "metadata": {},
   "source": [
    "Before we use our dataset to construct the model, we need to perform data preprocessing such as removing punctuations, converting to lowercase, remove empty strings and remove any special characters."
   ]
  },
  {
   "cell_type": "code",
   "execution_count": 7,
   "metadata": {},
   "outputs": [],
   "source": [
    "#create a copy of dataframe\n",
    "df1 = df.copy()"
   ]
  },
  {
   "cell_type": "code",
   "execution_count": 8,
   "metadata": {},
   "outputs": [],
   "source": [
    "#preprocessing reviews\n",
    "def datapreprocessingstep1(word):\n",
    "    \"\"\"remove any special characters\"\"\" \n",
    "    word = re.sub('[^a-zA-Z0-9]+', '', str(word))\n",
    "    #result = re.sub(r'[0-9]+', 'number', word)\n",
    "    return word\n",
    "\n",
    "def datapreprocessingstep2(sentence):\n",
    "    \"\"\"remove empty string, punctuation and convert to lowercase \"\"\"\n",
    "    remove_empty_string = list(filter(lambda word: word != '', sentence))\n",
    "    #no_empty_str = list(empty_str_filter)\n",
    "    important_words = [w for w in remove_empty_string if not w in punctuation]\n",
    "    lowercase = [w.lower() for w in important_words]\n",
    "    return lowercase   "
   ]
  },
  {
   "cell_type": "code",
   "execution_count": 9,
   "metadata": {
    "scrolled": true
   },
   "outputs": [],
   "source": [
    "#preprocessing\n",
    "temp = list()\n",
    "for review in df1[\"original_review\"]:\n",
    "    result = datapreprocessingstep2(datapreprocessingstep1(word) for word in review)\n",
    "    temp.append(result)\n",
    "    \n",
    "df1[\"processed_review\"] = temp"
   ]
  },
  {
   "cell_type": "code",
   "execution_count": 10,
   "metadata": {},
   "outputs": [],
   "source": [
    "#consider two columns\n",
    "df1 = df1[[\"processed_review\", \"sentiment\"]]"
   ]
  },
  {
   "cell_type": "code",
   "execution_count": 11,
   "metadata": {
    "scrolled": true
   },
   "outputs": [
    {
     "data": {
      "text/html": [
       "<div>\n",
       "<style scoped>\n",
       "    .dataframe tbody tr th:only-of-type {\n",
       "        vertical-align: middle;\n",
       "    }\n",
       "\n",
       "    .dataframe tbody tr th {\n",
       "        vertical-align: top;\n",
       "    }\n",
       "\n",
       "    .dataframe thead th {\n",
       "        text-align: right;\n",
       "    }\n",
       "</style>\n",
       "<table border=\"1\" class=\"dataframe\">\n",
       "  <thead>\n",
       "    <tr style=\"text-align: right;\">\n",
       "      <th></th>\n",
       "      <th>processed_review</th>\n",
       "      <th>sentiment</th>\n",
       "      <th>sentences</th>\n",
       "    </tr>\n",
       "  </thead>\n",
       "  <tbody>\n",
       "    <tr>\n",
       "      <th>1412</th>\n",
       "      <td>[frequency, n, the, number, of, times, a, spec...</td>\n",
       "      <td>pos</td>\n",
       "      <td>frequency n the number of times a specified ph...</td>\n",
       "    </tr>\n",
       "    <tr>\n",
       "      <th>1942</th>\n",
       "      <td>[it, is, always, refreshing, to, see, a, super...</td>\n",
       "      <td>pos</td>\n",
       "      <td>it is always refreshing to see a superstar act...</td>\n",
       "    </tr>\n",
       "    <tr>\n",
       "      <th>1711</th>\n",
       "      <td>[in, the, sweet, hereafter, writer, director, ...</td>\n",
       "      <td>pos</td>\n",
       "      <td>in the sweet hereafter writer director atom eg...</td>\n",
       "    </tr>\n",
       "    <tr>\n",
       "      <th>977</th>\n",
       "      <td>[i, saw, this, film, on, christmas, day, expec...</td>\n",
       "      <td>neg</td>\n",
       "      <td>i saw this film on christmas day expecting an ...</td>\n",
       "    </tr>\n",
       "    <tr>\n",
       "      <th>1324</th>\n",
       "      <td>[produced, by, robert, lantos, stephen, j, rot...</td>\n",
       "      <td>pos</td>\n",
       "      <td>produced by robert lantos stephen j roth direc...</td>\n",
       "    </tr>\n",
       "  </tbody>\n",
       "</table>\n",
       "</div>"
      ],
      "text/plain": [
       "                                       processed_review sentiment  \\\n",
       "1412  [frequency, n, the, number, of, times, a, spec...       pos   \n",
       "1942  [it, is, always, refreshing, to, see, a, super...       pos   \n",
       "1711  [in, the, sweet, hereafter, writer, director, ...       pos   \n",
       "977   [i, saw, this, film, on, christmas, day, expec...       neg   \n",
       "1324  [produced, by, robert, lantos, stephen, j, rot...       pos   \n",
       "\n",
       "                                              sentences  \n",
       "1412  frequency n the number of times a specified ph...  \n",
       "1942  it is always refreshing to see a superstar act...  \n",
       "1711  in the sweet hereafter writer director atom eg...  \n",
       "977   i saw this film on christmas day expecting an ...  \n",
       "1324  produced by robert lantos stephen j roth direc...  "
      ]
     },
     "execution_count": 11,
     "metadata": {},
     "output_type": "execute_result"
    }
   ],
   "source": [
    "#join all the processed reviews\n",
    "df1[\"sentences\"] = [\" \".join(review) for review in df1[\"processed_review\"]]\n",
    "df1.head()"
   ]
  },
  {
   "cell_type": "markdown",
   "metadata": {},
   "source": [
    "The dataset has been preprocessed. Lets create a model using Keras library."
   ]
  },
  {
   "cell_type": "markdown",
   "metadata": {},
   "source": [
    "## 3. Model"
   ]
  },
  {
   "cell_type": "code",
   "execution_count": 12,
   "metadata": {},
   "outputs": [],
   "source": [
    "#all the words in the reviews\n",
    "all_words = list(itertools.chain.from_iterable(list(df1[\"processed_review\"]))) #list of all the words in the dataset\n",
    "word_count = sorted(Counter(all_words).items(), key = lambda item: item[1], reverse=True) #assign a label to words"
   ]
  },
  {
   "cell_type": "markdown",
   "metadata": {},
   "source": [
    "Lets plot a histogram to see the distribution of the lengths of the reviews. "
   ]
  },
  {
   "cell_type": "code",
   "execution_count": 13,
   "metadata": {
    "scrolled": false
   },
   "outputs": [
    {
     "data": {
      "text/plain": [
       "(array([  1.,   2.,   7.,  21.,  48.,  78.,  74.,  91., 144., 144., 172.,\n",
       "        152., 139., 164., 133., 107., 109.,  76.,  65.,  49.,  34.,  25.,\n",
       "         19.,  32.,  24.,   9.,  15.,  10.,  11.,   7.,   6.,   5.,   6.,\n",
       "          4.,   2.,   2.,   2.,   5.,   3.,   0.,   0.,   0.,   0.,   0.,\n",
       "          0.,   1.,   0.,   1.,   0.,   1.]),\n",
       " array([  17. ,   65.9,  114.8,  163.7,  212.6,  261.5,  310.4,  359.3,\n",
       "         408.2,  457.1,  506. ,  554.9,  603.8,  652.7,  701.6,  750.5,\n",
       "         799.4,  848.3,  897.2,  946.1,  995. , 1043.9, 1092.8, 1141.7,\n",
       "        1190.6, 1239.5, 1288.4, 1337.3, 1386.2, 1435.1, 1484. , 1532.9,\n",
       "        1581.8, 1630.7, 1679.6, 1728.5, 1777.4, 1826.3, 1875.2, 1924.1,\n",
       "        1973. , 2021.9, 2070.8, 2119.7, 2168.6, 2217.5, 2266.4, 2315.3,\n",
       "        2364.2, 2413.1, 2462. ]),\n",
       " <BarContainer object of 50 artists>)"
      ]
     },
     "execution_count": 13,
     "metadata": {},
     "output_type": "execute_result"
    },
    {
     "data": {
      "image/png": "[encoded data removed]",
      "text/plain": [
       "<Figure size 432x288 with 1 Axes>"
      ]
     },
     "metadata": {
      "needs_background": "light"
     },
     "output_type": "display_data"
    }
   ],
   "source": [
    "plt.hist([len(s) for s in df1[\"processed_review\"]], bins=50)"
   ]
  },
  {
   "cell_type": "markdown",
   "metadata": {},
   "source": [
    "From the histogram, we can see that there are many reviews with the length in the range between 200 and 1000. So, I am considering 1000 for a maximum length parameter. All the sentences have to be the same size. "
   ]
  },
  {
   "cell_type": "code",
   "execution_count": 14,
   "metadata": {},
   "outputs": [],
   "source": [
    "max_length = 1000 #maximum length\n",
    "top_words = 5000 #top 5000 words\n",
    "reviews = [review for review in df1[\"sentences\"]] #concatenate reviews\n",
    "#assign 1 for positive label and 0 for negative label\n",
    "sentiments = [1 if label == \"pos\" else 0 for label in df1[\"sentiment\"]]"
   ]
  },
  {
   "cell_type": "markdown",
   "metadata": {},
   "source": [
    "Train and test splits"
   ]
  },
  {
   "cell_type": "code",
   "execution_count": 15,
   "metadata": {},
   "outputs": [],
   "source": [
    "X_train, X_test, y_train, y_test = train_test_split(reviews, sentiments, test_size = 0.2, random_state = seed)"
   ]
  },
  {
   "cell_type": "markdown",
   "metadata": {},
   "source": [
    "Here, we will need to tokenize our sentence using Tokenizer class by Keras. The parameter for num_words is set to 5000. This means that the tokenzier takes the first top 5000 most frequent words as features to build the model."
   ]
  },
  {
   "cell_type": "code",
   "execution_count": 16,
   "metadata": {
    "scrolled": true
   },
   "outputs": [],
   "source": [
    "model = Tokenizer(num_words = top_words) #tokenize\n",
    "model.fit_on_texts(X_train)\n",
    "words_to_index = model.word_index #from string to int representation\n",
    "vocab_length = len(words_to_index) #number of vocabulary"
   ]
  },
  {
   "cell_type": "code",
   "execution_count": 17,
   "metadata": {},
   "outputs": [],
   "source": [
    "#pad sequences\n",
    "X_tr = model.texts_to_sequences(X_train)\n",
    "X_te = model.texts_to_sequences(X_test)\n",
    "X_tr = pad_sequences(X_tr, maxlen = max_length)\n",
    "X_te = pad_sequences(X_te, maxlen = max_length)"
   ]
  },
  {
   "cell_type": "markdown",
   "metadata": {},
   "source": [
    "Create a embedding vector of size 200 "
   ]
  },
  {
   "cell_type": "code",
   "execution_count": 18,
   "metadata": {},
   "outputs": [],
   "source": [
    "embedding_vector_length=200\n",
    "model = Sequential()\n",
    "model.add(Embedding(top_words, embedding_vector_length, input_length=max_length))"
   ]
  },
  {
   "cell_type": "markdown",
   "metadata": {},
   "source": [
    "Four CNN layers with 32 neurons and kernel size of 3."
   ]
  },
  {
   "cell_type": "code",
   "execution_count": 19,
   "metadata": {
    "scrolled": true
   },
   "outputs": [
    {
     "name": "stdout",
     "output_type": "stream",
     "text": [
      "WARNING:tensorflow:From E:\\Anaconda\\envs\\deepta\\lib\\site-packages\\keras\\backend\\tensorflow_backend.py:4070: The name tf.nn.max_pool is deprecated. Please use tf.nn.max_pool2d instead.\n",
      "\n",
      "WARNING:tensorflow:From E:\\Anaconda\\envs\\deepta\\lib\\site-packages\\tensorflow\\python\\ops\\nn_impl.py:180: add_dispatch_support.<locals>.wrapper (from tensorflow.python.ops.array_ops) is deprecated and will be removed in a future version.\n",
      "Instructions for updating:\n",
      "Use tf.where in 2.0, which has the same broadcast rule as np.where\n",
      "WARNING:tensorflow:From E:\\Anaconda\\envs\\deepta\\lib\\site-packages\\keras\\backend\\tensorflow_backend.py:422: The name tf.global_variables is deprecated. Please use tf.compat.v1.global_variables instead.\n",
      "\n",
      "Epoch 1/5\n",
      "1600/1600 [==============================] - 4s 3ms/step - loss: 0.7158 - accuracy: 0.4888\n",
      "Epoch 2/5\n",
      "1600/1600 [==============================] - 4s 2ms/step - loss: 0.6157 - accuracy: 0.6700\n",
      "Epoch 3/5\n",
      "1600/1600 [==============================] - 4s 2ms/step - loss: 0.2625 - accuracy: 0.8906\n",
      "Epoch 4/5\n",
      "1600/1600 [==============================] - 4s 2ms/step - loss: 0.0642 - accuracy: 0.9787\n",
      "Epoch 5/5\n",
      "1600/1600 [==============================] - 4s 2ms/step - loss: 0.0142 - accuracy: 0.9987\n"
     ]
    },
    {
     "data": {
      "text/plain": [
       "<keras.callbacks.callbacks.History at 0x2ac0c112550>"
      ]
     },
     "execution_count": 19,
     "metadata": {},
     "output_type": "execute_result"
    }
   ],
   "source": [
    "model.add(Conv1D(32, kernel_size= 3, padding= 'same', input_shape=(max_length, embedding_vector_length)))\n",
    "model.add(Conv1D(32, kernel_size= 3, padding= 'same'))\n",
    "model.add(MaxPooling1D(pool_size=2))\n",
    "model.add(Conv1D(16, kernel_size= 3, padding= 'same'))\n",
    "model.add(MaxPooling1D(pool_size=2))\n",
    "model.add(Conv1D(16, kernel_size= 3, padding= 'same'))\n",
    "model.add(MaxPooling1D(pool_size=2))\n",
    "model.add(Flatten())\n",
    "model.add(Dropout(0.2))\n",
    "model.add(Dense(64, activation='sigmoid'))\n",
    "model.add(Dropout(0.2))\n",
    "model.add(Dense(1, activation='sigmoid'))\n",
    "model.compile(loss='binary_crossentropy', optimizer='adam', metrics=['accuracy'])\n",
    "model.fit(X_tr, y_train, epochs=5, batch_size=64)"
   ]
  },
  {
   "cell_type": "markdown",
   "metadata": {},
   "source": [
    "## 4. Test the classifier"
   ]
  },
  {
   "cell_type": "code",
   "execution_count": 20,
   "metadata": {},
   "outputs": [],
   "source": [
    "y_pred = model.predict_classes(np.array(X_te))"
   ]
  },
  {
   "cell_type": "code",
   "execution_count": 21,
   "metadata": {},
   "outputs": [
    {
     "name": "stdout",
     "output_type": "stream",
     "text": [
      "              precision    recall  f1-score   support\n",
      "\n",
      "           0       0.79      0.83      0.81       192\n",
      "           1       0.84      0.79      0.81       208\n",
      "\n",
      "    accuracy                           0.81       400\n",
      "   macro avg       0.81      0.81      0.81       400\n",
      "weighted avg       0.81      0.81      0.81       400\n",
      "\n"
     ]
    }
   ],
   "source": [
    "target_names = [0,1]\n",
    "cnf_matrix_test = confusion_matrix(y_test, y_pred)\n",
    "print(classification_report(y_test, y_pred))"
   ]
  },
  {
   "cell_type": "code",
   "execution_count": 22,
   "metadata": {},
   "outputs": [
    {
     "data": {
      "image/png": "[encoded data removed]",
      "text/plain": [
       "<Figure size 432x288 with 1 Axes>"
      ]
     },
     "metadata": {
      "needs_background": "light"
     },
     "output_type": "display_data"
    }
   ],
   "source": [
    "#confusion matrix\n",
    "figure, ax = plot_confusion_matrix(conf_mat = cnf_matrix_test,\n",
    "                                   show_absolute = True,\n",
    "                                   show_normed = True,\n",
    "                                   colorbar = False)\n",
    "plt.show()"
   ]
  },
  {
   "cell_type": "code",
   "execution_count": 23,
   "metadata": {},
   "outputs": [
    {
     "name": "stdout",
     "output_type": "stream",
     "text": [
      "Model: \"sequential_1\"\n",
      "_________________________________________________________________\n",
      "Layer (type)                 Output Shape              Param #   \n",
      "=================================================================\n",
      "embedding_1 (Embedding)      (None, 1000, 200)         1000000   \n",
      "_________________________________________________________________\n",
      "conv1d_1 (Conv1D)            (None, 1000, 32)          19232     \n",
      "_________________________________________________________________\n",
      "conv1d_2 (Conv1D)            (None, 1000, 32)          3104      \n",
      "_________________________________________________________________\n",
      "max_pooling1d_1 (MaxPooling1 (None, 500, 32)           0         \n",
      "_________________________________________________________________\n",
      "conv1d_3 (Conv1D)            (None, 500, 16)           1552      \n",
      "_________________________________________________________________\n",
      "max_pooling1d_2 (MaxPooling1 (None, 250, 16)           0         \n",
      "_________________________________________________________________\n",
      "conv1d_4 (Conv1D)            (None, 250, 16)           784       \n",
      "_________________________________________________________________\n",
      "max_pooling1d_3 (MaxPooling1 (None, 125, 16)           0         \n",
      "_________________________________________________________________\n",
      "flatten_1 (Flatten)          (None, 2000)              0         \n",
      "_________________________________________________________________\n",
      "dropout_1 (Dropout)          (None, 2000)              0         \n",
      "_________________________________________________________________\n",
      "dense_1 (Dense)              (None, 64)                128064    \n",
      "_________________________________________________________________\n",
      "dropout_2 (Dropout)          (None, 64)                0         \n",
      "_________________________________________________________________\n",
      "dense_2 (Dense)              (None, 1)                 65        \n",
      "=================================================================\n",
      "Total params: 1,152,801\n",
      "Trainable params: 1,152,801\n",
      "Non-trainable params: 0\n",
      "_________________________________________________________________\n"
     ]
    }
   ],
   "source": [
    "model.summary()"
   ]
  },
  {
   "cell_type": "markdown",
   "metadata": {},
   "source": [
    "## 5. Error Analysis"
   ]
  },
  {
   "cell_type": "code",
   "execution_count": 47,
   "metadata": {},
   "outputs": [],
   "source": [
    "#dictionary to store the values of reviews, predicted labels and true \n",
    "#labels of test set\n",
    "ea_dict = {\"reviews\":[],\n",
    "             \"predicted\":list(y_pred.reshape(len(y_pred,))),\n",
    "             \"true\":y_test}"
   ]
  },
  {
   "cell_type": "code",
   "execution_count": 48,
   "metadata": {},
   "outputs": [],
   "source": [
    "for num in range(len(X_test)):\n",
    "    ea_dict[\"reviews\"].append(X_test[num].split(\" \"))"
   ]
  },
  {
   "cell_type": "code",
   "execution_count": 50,
   "metadata": {},
   "outputs": [
    {
     "data": {
      "text/html": [
       "<div>\n",
       "<style scoped>\n",
       "    .dataframe tbody tr th:only-of-type {\n",
       "        vertical-align: middle;\n",
       "    }\n",
       "\n",
       "    .dataframe tbody tr th {\n",
       "        vertical-align: top;\n",
       "    }\n",
       "\n",
       "    .dataframe thead th {\n",
       "        text-align: right;\n",
       "    }\n",
       "</style>\n",
       "<table border=\"1\" class=\"dataframe\">\n",
       "  <thead>\n",
       "    <tr style=\"text-align: right;\">\n",
       "      <th></th>\n",
       "      <th>reviews</th>\n",
       "      <th>predicted</th>\n",
       "      <th>true</th>\n",
       "    </tr>\n",
       "  </thead>\n",
       "  <tbody>\n",
       "    <tr>\n",
       "      <th>0</th>\n",
       "      <td>[bad, movies, described, as, a, swift, descent...</td>\n",
       "      <td>0</td>\n",
       "      <td>0</td>\n",
       "    </tr>\n",
       "    <tr>\n",
       "      <th>1</th>\n",
       "      <td>[director, david, fincher, has, such, an, eye,...</td>\n",
       "      <td>1</td>\n",
       "      <td>1</td>\n",
       "    </tr>\n",
       "    <tr>\n",
       "      <th>2</th>\n",
       "      <td>[comedy, rated, pg, runs, about, 1, 40, starri...</td>\n",
       "      <td>1</td>\n",
       "      <td>1</td>\n",
       "    </tr>\n",
       "    <tr>\n",
       "      <th>3</th>\n",
       "      <td>[depending, on, your, degree, of, cinematic, a...</td>\n",
       "      <td>0</td>\n",
       "      <td>0</td>\n",
       "    </tr>\n",
       "    <tr>\n",
       "      <th>4</th>\n",
       "      <td>[a, man, is, not, a, man, without, eight, tael...</td>\n",
       "      <td>1</td>\n",
       "      <td>1</td>\n",
       "    </tr>\n",
       "  </tbody>\n",
       "</table>\n",
       "</div>"
      ],
      "text/plain": [
       "                                             reviews  predicted  true\n",
       "0  [bad, movies, described, as, a, swift, descent...          0     0\n",
       "1  [director, david, fincher, has, such, an, eye,...          1     1\n",
       "2  [comedy, rated, pg, runs, about, 1, 40, starri...          1     1\n",
       "3  [depending, on, your, degree, of, cinematic, a...          0     0\n",
       "4  [a, man, is, not, a, man, without, eight, tael...          1     1"
      ]
     },
     "execution_count": 50,
     "metadata": {},
     "output_type": "execute_result"
    }
   ],
   "source": [
    "#dataframe of ea_dict\n",
    "dfea = pd.DataFrame(data=ea_dict)\n",
    "dfea.head()"
   ]
  },
  {
   "cell_type": "code",
   "execution_count": 55,
   "metadata": {},
   "outputs": [
    {
     "data": {
      "text/html": [
       "<div>\n",
       "<style scoped>\n",
       "    .dataframe tbody tr th:only-of-type {\n",
       "        vertical-align: middle;\n",
       "    }\n",
       "\n",
       "    .dataframe tbody tr th {\n",
       "        vertical-align: top;\n",
       "    }\n",
       "\n",
       "    .dataframe thead th {\n",
       "        text-align: right;\n",
       "    }\n",
       "</style>\n",
       "<table border=\"1\" class=\"dataframe\">\n",
       "  <thead>\n",
       "    <tr style=\"text-align: right;\">\n",
       "      <th></th>\n",
       "      <th>reviews</th>\n",
       "      <th>predicted</th>\n",
       "      <th>true</th>\n",
       "    </tr>\n",
       "  </thead>\n",
       "  <tbody>\n",
       "    <tr>\n",
       "      <th>5</th>\n",
       "      <td>[it, s, been, hours, since, i, returned, from,...</td>\n",
       "      <td>1</td>\n",
       "      <td>0</td>\n",
       "    </tr>\n",
       "    <tr>\n",
       "      <th>11</th>\n",
       "      <td>[play, it, to, the, bone, is, a, punch, drunk,...</td>\n",
       "      <td>1</td>\n",
       "      <td>0</td>\n",
       "    </tr>\n",
       "    <tr>\n",
       "      <th>17</th>\n",
       "      <td>[one, of, the, most, respected, names, in, ame...</td>\n",
       "      <td>1</td>\n",
       "      <td>0</td>\n",
       "    </tr>\n",
       "    <tr>\n",
       "      <th>21</th>\n",
       "      <td>[this, is, a, stagy, film, adapted, from, roge...</td>\n",
       "      <td>0</td>\n",
       "      <td>1</td>\n",
       "    </tr>\n",
       "    <tr>\n",
       "      <th>29</th>\n",
       "      <td>[truman, true, man, burbank, is, the, perfect,...</td>\n",
       "      <td>0</td>\n",
       "      <td>1</td>\n",
       "    </tr>\n",
       "    <tr>\n",
       "      <th>30</th>\n",
       "      <td>[best, remembered, for, his, understated, perf...</td>\n",
       "      <td>1</td>\n",
       "      <td>0</td>\n",
       "    </tr>\n",
       "    <tr>\n",
       "      <th>32</th>\n",
       "      <td>[i, can, hear, the, question, already, what, o...</td>\n",
       "      <td>0</td>\n",
       "      <td>1</td>\n",
       "    </tr>\n",
       "    <tr>\n",
       "      <th>34</th>\n",
       "      <td>[wyatt, earp, has, a, lot, to, tell, and, litt...</td>\n",
       "      <td>0</td>\n",
       "      <td>1</td>\n",
       "    </tr>\n",
       "    <tr>\n",
       "      <th>44</th>\n",
       "      <td>[scream, 2, isn, t, quite, as, clever, as, its...</td>\n",
       "      <td>0</td>\n",
       "      <td>1</td>\n",
       "    </tr>\n",
       "    <tr>\n",
       "      <th>46</th>\n",
       "      <td>[ugh, that, about, sums, this, movie, up, just...</td>\n",
       "      <td>1</td>\n",
       "      <td>0</td>\n",
       "    </tr>\n",
       "  </tbody>\n",
       "</table>\n",
       "</div>"
      ],
      "text/plain": [
       "                                              reviews  predicted  true\n",
       "5   [it, s, been, hours, since, i, returned, from,...          1     0\n",
       "11  [play, it, to, the, bone, is, a, punch, drunk,...          1     0\n",
       "17  [one, of, the, most, respected, names, in, ame...          1     0\n",
       "21  [this, is, a, stagy, film, adapted, from, roge...          0     1\n",
       "29  [truman, true, man, burbank, is, the, perfect,...          0     1\n",
       "30  [best, remembered, for, his, understated, perf...          1     0\n",
       "32  [i, can, hear, the, question, already, what, o...          0     1\n",
       "34  [wyatt, earp, has, a, lot, to, tell, and, litt...          0     1\n",
       "44  [scream, 2, isn, t, quite, as, clever, as, its...          0     1\n",
       "46  [ugh, that, about, sums, this, movie, up, just...          1     0"
      ]
     },
     "execution_count": 55,
     "metadata": {},
     "output_type": "execute_result"
    }
   ],
   "source": [
    "#dataframe of misclassified labels\n",
    "dfea1 = dfea[dfea['predicted'] != dfea['true']]\n",
    "dfea1.head(10)"
   ]
  },
  {
   "cell_type": "markdown",
   "metadata": {},
   "source": [
    "As we can see from the above dataframe (dfea1), there are many reasons for mistakes. It is complicated to keep tab of mistakes. Some reviews have different words that is easier for human to assign label but algorithm might not be able to predict the labels correctly. This could be solved by bringing more data to train and create a huge collection of vocabulary."
   ]
  },
  {
   "cell_type": "markdown",
   "metadata": {},
   "source": [
    "### Error analysis statistics"
   ]
  },
  {
   "cell_type": "code",
   "execution_count": 60,
   "metadata": {},
   "outputs": [
    {
     "name": "stdout",
     "output_type": "stream",
     "text": [
      "Errors in true positive: 43.\n",
      "Errors in true negative: 32.\n",
      "Fraction of the errors with true positive: 0.043.\n",
      "Fraction of the errors with true negative: 0.032.\n"
     ]
    }
   ],
   "source": [
    "#errors in true positive\n",
    "print(f\"Errors in true positive: {len(dfea1[dfea1['true'] == 1])}.\")\n",
    "print(f\"Errors in true negative: {len(dfea1[dfea1['true'] == 0])}.\")\n",
    "print(f\"Fraction of the errors with true positive: {43/1000}.\")\n",
    "print(f\"Fraction of the errors with true negative: {32/1000}.\")"
   ]
  },
  {
   "cell_type": "markdown",
   "metadata": {},
   "source": [
    "## 6. Conclusion"
   ]
  },
  {
   "cell_type": "markdown",
   "metadata": {},
   "source": [
    "In this notebook, we have explored the method to extract the sentiment analysis from movie reviews. This model is good to apply on unknown dataset. The accuracy of the model is 81%."
   ]
  },
  {
   "cell_type": "code",
   "execution_count": null,
   "metadata": {},
   "outputs": [],
   "source": []
  }
 ],
 "metadata": {
  "kernelspec": {
   "display_name": "Python 3 (ipykernel)",
   "language": "python",
   "name": "python3"
  },
  "language_info": {
   "codemirror_mode": {
    "name": "ipython",
    "version": 3
   },
   "file_extension": ".py",
   "mimetype": "text/x-python",
   "name": "python",
   "nbconvert_exporter": "python",
   "pygments_lexer": "ipython3",
   "version": "3.9.7"
  }
 },
 "nbformat": 4,
 "nbformat_minor": 4
}
